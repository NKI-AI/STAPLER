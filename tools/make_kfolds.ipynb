{
 "cells": [
  {
   "cell_type": "code",
   "execution_count": 1,
   "outputs": [
    {
     "name": "stdout",
     "output_type": "stream",
     "text": [
      "train pos ratio 0.16665781789222192\n",
      "train pos ratio 0.16665781789222192\n",
      "train pos ratio 0.16665781789222192\n",
      "train pos ratio 0.16665781789222192\n",
      "train pos ratio 0.16670205988532596\n"
     ]
    }
   ],
   "source": [
    "from sklearn.model_selection import StratifiedKFold\n",
    "import pandas as pd\n",
    "import numpy as np\n",
    "import os\n",
    "\n",
    "FOLDS = 5\n",
    "RANDOM_STATE = 42\n",
    "\n",
    "train_df = pd.read_csv('../data/saved_data/2022-05-20_train-set_full-seq.csv', low_memory=False)\n",
    "labels = train_df['label_true_pair'].values\n",
    "\n",
    "kf_stratified = StratifiedKFold(n_splits=FOLDS, random_state=RANDOM_STATE, shuffle=True)\n",
    "for fold, (train_index, val_index) in enumerate(kf_stratified.split(np.zeros(len(labels)), labels)):\n",
    "    print('train pos ratio', np.sum(labels[train_index] == 1) / len(train_index))\n",
    "    # mkdir folds in saved_data\n",
    "    if not os.path.exists('../data/saved_data/folds'):\n",
    "        os.mkdir('../data/saved_data/folds')\n",
    "    # save train and test folds in saved_data\n",
    "    train_df.iloc[train_index].to_csv(f'../data/saved_data/2022-05-20_train-set_full-seq_train-fold{fold}.csv', index=False)\n",
    "    train_df.iloc[val_index].to_csv(f'../data/saved_data/2022-05-20_train-set_full-seq_val-fold{fold}.csv', index=False)\n"
   ],
   "metadata": {
    "collapsed": false
   }
  }
 ],
 "metadata": {
  "kernelspec": {
   "display_name": "Python 3",
   "language": "python",
   "name": "python3"
  },
  "language_info": {
   "codemirror_mode": {
    "name": "ipython",
    "version": 2
   },
   "file_extension": ".py",
   "mimetype": "text/x-python",
   "name": "python",
   "nbconvert_exporter": "python",
   "pygments_lexer": "ipython2",
   "version": "2.7.6"
  }
 },
 "nbformat": 4,
 "nbformat_minor": 0
}
